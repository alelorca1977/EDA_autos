{
  "nbformat": 4,
  "nbformat_minor": 0,
  "metadata": {
    "colab": {
      "name": "AnalisisVentasAutos.ipynb",
      "provenance": [],
      "authorship_tag": "ABX9TyMh8t5BDaOwk7MHNLC+XTRi",
      "include_colab_link": true
    },
    "kernelspec": {
      "name": "python3",
      "display_name": "Python 3"
    },
    "language_info": {
      "name": "python"
    }
  },
  "cells": [
    {
      "cell_type": "markdown",
      "metadata": {
        "id": "view-in-github",
        "colab_type": "text"
      },
      "source": [
        "<a href=\"https://colab.research.google.com/github/alelorca1977/helloworld/blob/master/AnalisisVentasAutos.ipynb\" target=\"_parent\"><img src=\"https://colab.research.google.com/assets/colab-badge.svg\" alt=\"Open In Colab\"/></a>"
      ]
    },
    {
      "cell_type": "markdown",
      "source": [
        "# Análisis Exploratorio de Datos (EDA)\n",
        "\n"
      ],
      "metadata": {
        "id": "jfkFOpdo8SNV"
      }
    },
    {
      "cell_type": "code",
      "source": [
        "import pandas as pd \n",
        "import numpy as np"
      ],
      "metadata": {
        "id": "PKS60_pF2Ywi"
      },
      "execution_count": null,
      "outputs": []
    },
    {
      "cell_type": "code",
      "execution_count": null,
      "metadata": {
        "id": "aIVtR0EW2QVi"
      },
      "outputs": [],
      "source": [
        "df_autos = pd.read_csv('bbdd_prueba_corp1.csv', encoding='utf-8', sep=';')"
      ]
    },
    {
      "cell_type": "code",
      "source": [
        "len(df_autos)"
      ],
      "metadata": {
        "colab": {
          "base_uri": "https://localhost:8080/"
        },
        "id": "EARxrBInAbsp",
        "outputId": "5afa4f8e-edc4-4b2c-e3c6-eba95393b590"
      },
      "execution_count": null,
      "outputs": [
        {
          "output_type": "execute_result",
          "data": {
            "text/plain": [
              "24744"
            ]
          },
          "metadata": {},
          "execution_count": 31
        }
      ]
    },
    {
      "cell_type": "code",
      "source": [
        "df_autos.head(5)"
      ],
      "metadata": {
        "colab": {
          "base_uri": "https://localhost:8080/",
          "height": 374
        },
        "id": "FakTMNcE7bTD",
        "outputId": "561ef220-19d7-4744-b1d9-9e7623fda63a"
      },
      "execution_count": null,
      "outputs": [
        {
          "output_type": "execute_result",
          "data": {
            "text/html": [
              "\n",
              "  <div id=\"df-32d594d8-bc05-461b-b436-dc35b6d9515a\">\n",
              "    <div class=\"colab-df-container\">\n",
              "      <div>\n",
              "<style scoped>\n",
              "    .dataframe tbody tr th:only-of-type {\n",
              "        vertical-align: middle;\n",
              "    }\n",
              "\n",
              "    .dataframe tbody tr th {\n",
              "        vertical-align: top;\n",
              "    }\n",
              "\n",
              "    .dataframe thead th {\n",
              "        text-align: right;\n",
              "    }\n",
              "</style>\n",
              "<table border=\"1\" class=\"dataframe\">\n",
              "  <thead>\n",
              "    <tr style=\"text-align: right;\">\n",
              "      <th></th>\n",
              "      <th>PATENTE</th>\n",
              "      <th>MARCA</th>\n",
              "      <th>MODELO</th>\n",
              "      <th>AÑO</th>\n",
              "      <th>ID_CLIENTE</th>\n",
              "      <th>COMUNA</th>\n",
              "      <th>REGION</th>\n",
              "      <th>SEXO</th>\n",
              "      <th>ACTIVIDAD</th>\n",
              "      <th>TASACION</th>\n",
              "      <th>FEC_TRANSFERENCIA</th>\n",
              "      <th>COLOR2</th>\n",
              "      <th>EDAD</th>\n",
              "      <th>VIGENCIA</th>\n",
              "    </tr>\n",
              "  </thead>\n",
              "  <tbody>\n",
              "    <tr>\n",
              "      <th>0</th>\n",
              "      <td>393A4B4C-085</td>\n",
              "      <td>TOYOTA</td>\n",
              "      <td>RAV 4</td>\n",
              "      <td>2015</td>\n",
              "      <td>50838335</td>\n",
              "      <td>TEMUCO</td>\n",
              "      <td>9</td>\n",
              "      <td>M</td>\n",
              "      <td>NaN</td>\n",
              "      <td>11947500.0</td>\n",
              "      <td>NaN</td>\n",
              "      <td>BLANCO</td>\n",
              "      <td>NaN</td>\n",
              "      <td>N</td>\n",
              "    </tr>\n",
              "    <tr>\n",
              "      <th>1</th>\n",
              "      <td>B1F3DB7E-F67</td>\n",
              "      <td>MAZDA</td>\n",
              "      <td>CX 5</td>\n",
              "      <td>2016</td>\n",
              "      <td>46322649</td>\n",
              "      <td>VILLA ALEMANA</td>\n",
              "      <td>5</td>\n",
              "      <td>M</td>\n",
              "      <td>NaN</td>\n",
              "      <td>NaN</td>\n",
              "      <td>NaN</td>\n",
              "      <td>NEGRO</td>\n",
              "      <td>38.0</td>\n",
              "      <td>S</td>\n",
              "    </tr>\n",
              "    <tr>\n",
              "      <th>2</th>\n",
              "      <td>F6DBB2E6-A76</td>\n",
              "      <td>GREAT WALL</td>\n",
              "      <td>HAVAL NEW H3 2.0</td>\n",
              "      <td>2014</td>\n",
              "      <td>36226810</td>\n",
              "      <td>ANTOFAGASTA</td>\n",
              "      <td>DE ANTOFAGASTA</td>\n",
              "      <td>NaN</td>\n",
              "      <td>NaN</td>\n",
              "      <td>NaN</td>\n",
              "      <td>NaN</td>\n",
              "      <td>NEGRO</td>\n",
              "      <td>49.0</td>\n",
              "      <td>S</td>\n",
              "    </tr>\n",
              "    <tr>\n",
              "      <th>3</th>\n",
              "      <td>EBCF63CD-99D</td>\n",
              "      <td>JEEP</td>\n",
              "      <td>COMPASS SPORT 2.4</td>\n",
              "      <td>2013</td>\n",
              "      <td>43482783</td>\n",
              "      <td>NaN</td>\n",
              "      <td>NaN</td>\n",
              "      <td>NaN</td>\n",
              "      <td>NaN</td>\n",
              "      <td>NaN</td>\n",
              "      <td>20160418.0</td>\n",
              "      <td>GRIS</td>\n",
              "      <td>40.0</td>\n",
              "      <td>S</td>\n",
              "    </tr>\n",
              "    <tr>\n",
              "      <th>4</th>\n",
              "      <td>FF38B368-B0F</td>\n",
              "      <td>SUBARU</td>\n",
              "      <td>FORESTER 2.0</td>\n",
              "      <td>2017</td>\n",
              "      <td>25657273</td>\n",
              "      <td>NaN</td>\n",
              "      <td>NaN</td>\n",
              "      <td>NaN</td>\n",
              "      <td>NaN</td>\n",
              "      <td>NaN</td>\n",
              "      <td>NaN</td>\n",
              "      <td>GRIS</td>\n",
              "      <td>62.0</td>\n",
              "      <td>S</td>\n",
              "    </tr>\n",
              "  </tbody>\n",
              "</table>\n",
              "</div>\n",
              "      <button class=\"colab-df-convert\" onclick=\"convertToInteractive('df-32d594d8-bc05-461b-b436-dc35b6d9515a')\"\n",
              "              title=\"Convert this dataframe to an interactive table.\"\n",
              "              style=\"display:none;\">\n",
              "        \n",
              "  <svg xmlns=\"http://www.w3.org/2000/svg\" height=\"24px\"viewBox=\"0 0 24 24\"\n",
              "       width=\"24px\">\n",
              "    <path d=\"M0 0h24v24H0V0z\" fill=\"none\"/>\n",
              "    <path d=\"M18.56 5.44l.94 2.06.94-2.06 2.06-.94-2.06-.94-.94-2.06-.94 2.06-2.06.94zm-11 1L8.5 8.5l.94-2.06 2.06-.94-2.06-.94L8.5 2.5l-.94 2.06-2.06.94zm10 10l.94 2.06.94-2.06 2.06-.94-2.06-.94-.94-2.06-.94 2.06-2.06.94z\"/><path d=\"M17.41 7.96l-1.37-1.37c-.4-.4-.92-.59-1.43-.59-.52 0-1.04.2-1.43.59L10.3 9.45l-7.72 7.72c-.78.78-.78 2.05 0 2.83L4 21.41c.39.39.9.59 1.41.59.51 0 1.02-.2 1.41-.59l7.78-7.78 2.81-2.81c.8-.78.8-2.07 0-2.86zM5.41 20L4 18.59l7.72-7.72 1.47 1.35L5.41 20z\"/>\n",
              "  </svg>\n",
              "      </button>\n",
              "      \n",
              "  <style>\n",
              "    .colab-df-container {\n",
              "      display:flex;\n",
              "      flex-wrap:wrap;\n",
              "      gap: 12px;\n",
              "    }\n",
              "\n",
              "    .colab-df-convert {\n",
              "      background-color: #E8F0FE;\n",
              "      border: none;\n",
              "      border-radius: 50%;\n",
              "      cursor: pointer;\n",
              "      display: none;\n",
              "      fill: #1967D2;\n",
              "      height: 32px;\n",
              "      padding: 0 0 0 0;\n",
              "      width: 32px;\n",
              "    }\n",
              "\n",
              "    .colab-df-convert:hover {\n",
              "      background-color: #E2EBFA;\n",
              "      box-shadow: 0px 1px 2px rgba(60, 64, 67, 0.3), 0px 1px 3px 1px rgba(60, 64, 67, 0.15);\n",
              "      fill: #174EA6;\n",
              "    }\n",
              "\n",
              "    [theme=dark] .colab-df-convert {\n",
              "      background-color: #3B4455;\n",
              "      fill: #D2E3FC;\n",
              "    }\n",
              "\n",
              "    [theme=dark] .colab-df-convert:hover {\n",
              "      background-color: #434B5C;\n",
              "      box-shadow: 0px 1px 3px 1px rgba(0, 0, 0, 0.15);\n",
              "      filter: drop-shadow(0px 1px 2px rgba(0, 0, 0, 0.3));\n",
              "      fill: #FFFFFF;\n",
              "    }\n",
              "  </style>\n",
              "\n",
              "      <script>\n",
              "        const buttonEl =\n",
              "          document.querySelector('#df-32d594d8-bc05-461b-b436-dc35b6d9515a button.colab-df-convert');\n",
              "        buttonEl.style.display =\n",
              "          google.colab.kernel.accessAllowed ? 'block' : 'none';\n",
              "\n",
              "        async function convertToInteractive(key) {\n",
              "          const element = document.querySelector('#df-32d594d8-bc05-461b-b436-dc35b6d9515a');\n",
              "          const dataTable =\n",
              "            await google.colab.kernel.invokeFunction('convertToInteractive',\n",
              "                                                     [key], {});\n",
              "          if (!dataTable) return;\n",
              "\n",
              "          const docLinkHtml = 'Like what you see? Visit the ' +\n",
              "            '<a target=\"_blank\" href=https://colab.research.google.com/notebooks/data_table.ipynb>data table notebook</a>'\n",
              "            + ' to learn more about interactive tables.';\n",
              "          element.innerHTML = '';\n",
              "          dataTable['output_type'] = 'display_data';\n",
              "          await google.colab.output.renderOutput(dataTable, element);\n",
              "          const docLink = document.createElement('div');\n",
              "          docLink.innerHTML = docLinkHtml;\n",
              "          element.appendChild(docLink);\n",
              "        }\n",
              "      </script>\n",
              "    </div>\n",
              "  </div>\n",
              "  "
            ],
            "text/plain": [
              "        PATENTE       MARCA             MODELO  ...  COLOR2  EDAD VIGENCIA\n",
              "0  393A4B4C-085      TOYOTA              RAV 4  ...  BLANCO   NaN        N\n",
              "1  B1F3DB7E-F67       MAZDA               CX 5  ...   NEGRO  38.0        S\n",
              "2  F6DBB2E6-A76  GREAT WALL   HAVAL NEW H3 2.0  ...   NEGRO  49.0        S\n",
              "3  EBCF63CD-99D        JEEP  COMPASS SPORT 2.4  ...    GRIS  40.0        S\n",
              "4  FF38B368-B0F      SUBARU       FORESTER 2.0  ...    GRIS  62.0        S\n",
              "\n",
              "[5 rows x 14 columns]"
            ]
          },
          "metadata": {},
          "execution_count": 32
        }
      ]
    },
    {
      "cell_type": "code",
      "source": [
        "df_autos.columns"
      ],
      "metadata": {
        "colab": {
          "base_uri": "https://localhost:8080/"
        },
        "id": "sxCOO_4o7tyY",
        "outputId": "5eb9da02-5825-4ccd-a565-602f40419be4"
      },
      "execution_count": null,
      "outputs": [
        {
          "output_type": "execute_result",
          "data": {
            "text/plain": [
              "Index(['PATENTE', 'MARCA', 'MODELO', 'AÑO', 'ID_CLIENTE', 'COMUNA', 'REGION',\n",
              "       'SEXO', 'ACTIVIDAD', 'TASACION', 'FEC_TRANSFERENCIA', 'COLOR2', 'EDAD',\n",
              "       'VIGENCIA'],\n",
              "      dtype='object')"
            ]
          },
          "metadata": {},
          "execution_count": 16
        }
      ]
    },
    {
      "cell_type": "code",
      "source": [
        "df_autos.PATENTE.describe()"
      ],
      "metadata": {
        "colab": {
          "base_uri": "https://localhost:8080/"
        },
        "id": "03nR7Rig8wQ_",
        "outputId": "781a1d14-d068-4b31-a547-dcb7f509165d"
      },
      "execution_count": null,
      "outputs": [
        {
          "output_type": "execute_result",
          "data": {
            "text/plain": [
              "count           470664\n",
              "unique          354860\n",
              "top       5C630692-5A0\n",
              "freq                 7\n",
              "Name: PATENTE, dtype: object"
            ]
          },
          "metadata": {},
          "execution_count": 18
        }
      ]
    },
    {
      "cell_type": "code",
      "source": [
        "df_autos.MARCA.describe()"
      ],
      "metadata": {
        "colab": {
          "base_uri": "https://localhost:8080/"
        },
        "id": "62SgvAq99EXb",
        "outputId": "dc511a12-9667-4f50-8261-f4787a7e5747"
      },
      "execution_count": null,
      "outputs": [
        {
          "output_type": "execute_result",
          "data": {
            "text/plain": [
              "count      470313\n",
              "unique         86\n",
              "top       HYUNDAI\n",
              "freq        49842\n",
              "Name: MARCA, dtype: object"
            ]
          },
          "metadata": {},
          "execution_count": 19
        }
      ]
    },
    {
      "cell_type": "code",
      "source": [
        "df_autos.AÑO.describe()"
      ],
      "metadata": {
        "colab": {
          "base_uri": "https://localhost:8080/"
        },
        "id": "ad9_m4zu9Wtd",
        "outputId": "6290f8a1-aac3-430f-dcbe-d532c3208034"
      },
      "execution_count": null,
      "outputs": [
        {
          "output_type": "execute_result",
          "data": {
            "text/plain": [
              "count    470663.000000\n",
              "mean       2013.513550\n",
              "std           2.351585\n",
              "min        2010.000000\n",
              "25%        2012.000000\n",
              "50%        2013.000000\n",
              "75%        2015.000000\n",
              "max        2018.000000\n",
              "Name: AÑO, dtype: float64"
            ]
          },
          "metadata": {},
          "execution_count": 20
        }
      ]
    },
    {
      "cell_type": "code",
      "source": [
        "df_autos.TASACION.describe()"
      ],
      "metadata": {
        "colab": {
          "base_uri": "https://localhost:8080/"
        },
        "id": "EeQPIGsX9sDY",
        "outputId": "a4905905-adbd-48a3-ab0c-7991c15b7221"
      },
      "execution_count": null,
      "outputs": [
        {
          "output_type": "execute_result",
          "data": {
            "text/plain": [
              "count    2.860880e+05\n",
              "mean     5.788223e+06\n",
              "std      6.477430e+06\n",
              "min      0.000000e+00\n",
              "25%      0.000000e+00\n",
              "50%      5.870000e+06\n",
              "75%      9.988333e+06\n",
              "max      8.590500e+07\n",
              "Name: TASACION, dtype: float64"
            ]
          },
          "metadata": {},
          "execution_count": 22
        }
      ]
    },
    {
      "cell_type": "code",
      "source": [
        "df_autos.EDAD.describe()"
      ],
      "metadata": {
        "colab": {
          "base_uri": "https://localhost:8080/"
        },
        "id": "JlT9xU2898vD",
        "outputId": "3cd708da-e3ad-41e3-eb45-c620a1af2be5"
      },
      "execution_count": null,
      "outputs": [
        {
          "output_type": "execute_result",
          "data": {
            "text/plain": [
              "count    329069.000000\n",
              "mean         48.970435\n",
              "std          12.592421\n",
              "min           3.000000\n",
              "25%          39.000000\n",
              "50%          48.000000\n",
              "75%          58.000000\n",
              "max          99.000000\n",
              "Name: EDAD, dtype: float64"
            ]
          },
          "metadata": {},
          "execution_count": 23
        }
      ]
    },
    {
      "cell_type": "code",
      "source": [
        "df_autos.FEC_TRANSFERENCIA.describe()"
      ],
      "metadata": {
        "colab": {
          "base_uri": "https://localhost:8080/"
        },
        "id": "mQR-NGw--gPJ",
        "outputId": "62050b7f-00b7-41bb-f5e0-2d7cdd205ad9"
      },
      "execution_count": null,
      "outputs": [
        {
          "output_type": "execute_result",
          "data": {
            "text/plain": [
              "count    1.586810e+05\n",
              "mean     2.015153e+07\n",
              "std      1.684521e+04\n",
              "min      2.009103e+07\n",
              "25%      2.014062e+07\n",
              "50%      2.015112e+07\n",
              "75%      2.017011e+07\n",
              "max      2.018011e+07\n",
              "Name: FEC_TRANSFERENCIA, dtype: float64"
            ]
          },
          "metadata": {},
          "execution_count": 24
        }
      ]
    },
    {
      "cell_type": "code",
      "source": [
        "# TRANSFORMAR COLUMNA FECHA DE FLOAT A DATETIME\n",
        "\n",
        "from datetime import datetime, timedelta\n",
        "for i in range(len(df_autos)):\n",
        "  if (df_autos.loc[i,'FEC_TRANSFERENCIA'] > 20120100):\n",
        "    f = df_autos.loc[i,'FEC_TRANSFERENCIA']\n",
        "    df_autos.loc[i,'FECHA_TRANS'] = datetime.strptime(str(int(f)), '%Y%m%d') + timedelta(days=f-int(f))"
      ],
      "metadata": {
        "id": "4YCHZn-TEKwa"
      },
      "execution_count": null,
      "outputs": []
    },
    {
      "cell_type": "code",
      "source": [
        "# GUARDAR NUEVO ARCHIVO CON LA COLUMNA NUEVA EN FORMATO FECHA\n",
        "from google.colab import drive\n",
        "drive.mount('/content/drive')\n",
        "df_autos.to_csv('/content/drive/MyDrive/data_autos.csv',index=False)"
      ],
      "metadata": {
        "colab": {
          "base_uri": "https://localhost:8080/"
        },
        "id": "JwF9ZVs3PW18",
        "outputId": "790beb6e-92e8-416f-8acd-afe66bfa1480"
      },
      "execution_count": null,
      "outputs": [
        {
          "output_type": "stream",
          "name": "stdout",
          "text": [
            "Mounted at /content/drive\n"
          ]
        }
      ]
    },
    {
      "cell_type": "code",
      "source": [
        "# ABRIR NUEVO ARCHIVO PARA TRABAJAR ANÁLISIS EXPLORATORIO\n",
        "from google.colab import drive\n",
        "drive.mount('/content/drive')\n",
        "df_data = pd.read_csv('/content/drive/MyDrive/data_autos.csv')"
      ],
      "metadata": {
        "colab": {
          "base_uri": "https://localhost:8080/"
        },
        "id": "1CUIvQnCQgQ1",
        "outputId": "6f5629c6-a1ca-472f-88ee-02f19f008575"
      },
      "execution_count": null,
      "outputs": [
        {
          "output_type": "stream",
          "name": "stdout",
          "text": [
            "Drive already mounted at /content/drive; to attempt to forcibly remount, call drive.mount(\"/content/drive\", force_remount=True).\n"
          ]
        }
      ]
    },
    {
      "cell_type": "code",
      "source": [
        "df_data.head(5)"
      ],
      "metadata": {
        "colab": {
          "base_uri": "https://localhost:8080/",
          "height": 374
        },
        "id": "q1_9dPbKQ6VS",
        "outputId": "f66ad39e-5553-476b-e2d7-fd5f28989444"
      },
      "execution_count": null,
      "outputs": [
        {
          "output_type": "execute_result",
          "data": {
            "text/html": [
              "\n",
              "  <div id=\"df-857fb867-41e9-4c9f-8863-3a09afe91005\">\n",
              "    <div class=\"colab-df-container\">\n",
              "      <div>\n",
              "<style scoped>\n",
              "    .dataframe tbody tr th:only-of-type {\n",
              "        vertical-align: middle;\n",
              "    }\n",
              "\n",
              "    .dataframe tbody tr th {\n",
              "        vertical-align: top;\n",
              "    }\n",
              "\n",
              "    .dataframe thead th {\n",
              "        text-align: right;\n",
              "    }\n",
              "</style>\n",
              "<table border=\"1\" class=\"dataframe\">\n",
              "  <thead>\n",
              "    <tr style=\"text-align: right;\">\n",
              "      <th></th>\n",
              "      <th>PATENTE</th>\n",
              "      <th>MARCA</th>\n",
              "      <th>MODELO</th>\n",
              "      <th>AÑO</th>\n",
              "      <th>ID_CLIENTE</th>\n",
              "      <th>COMUNA</th>\n",
              "      <th>REGION</th>\n",
              "      <th>SEXO</th>\n",
              "      <th>ACTIVIDAD</th>\n",
              "      <th>TASACION</th>\n",
              "      <th>FEC_TRANSFERENCIA</th>\n",
              "      <th>COLOR2</th>\n",
              "      <th>EDAD</th>\n",
              "      <th>VIGENCIA</th>\n",
              "      <th>FECHA_TRANS</th>\n",
              "    </tr>\n",
              "  </thead>\n",
              "  <tbody>\n",
              "    <tr>\n",
              "      <th>0</th>\n",
              "      <td>393A4B4C-085</td>\n",
              "      <td>TOYOTA</td>\n",
              "      <td>RAV 4</td>\n",
              "      <td>2015</td>\n",
              "      <td>50838335</td>\n",
              "      <td>TEMUCO</td>\n",
              "      <td>9</td>\n",
              "      <td>M</td>\n",
              "      <td>NaN</td>\n",
              "      <td>11947500.0</td>\n",
              "      <td>NaN</td>\n",
              "      <td>BLANCO</td>\n",
              "      <td>NaN</td>\n",
              "      <td>N</td>\n",
              "      <td>0                NaN\\n1                NaN\\n2 ...</td>\n",
              "    </tr>\n",
              "    <tr>\n",
              "      <th>1</th>\n",
              "      <td>B1F3DB7E-F67</td>\n",
              "      <td>MAZDA</td>\n",
              "      <td>CX 5</td>\n",
              "      <td>2016</td>\n",
              "      <td>46322649</td>\n",
              "      <td>VILLA ALEMANA</td>\n",
              "      <td>5</td>\n",
              "      <td>M</td>\n",
              "      <td>NaN</td>\n",
              "      <td>NaN</td>\n",
              "      <td>NaN</td>\n",
              "      <td>NEGRO</td>\n",
              "      <td>38.0</td>\n",
              "      <td>S</td>\n",
              "      <td>0                NaN\\n1                NaN\\n2 ...</td>\n",
              "    </tr>\n",
              "    <tr>\n",
              "      <th>2</th>\n",
              "      <td>F6DBB2E6-A76</td>\n",
              "      <td>GREAT WALL</td>\n",
              "      <td>HAVAL NEW H3 2.0</td>\n",
              "      <td>2014</td>\n",
              "      <td>36226810</td>\n",
              "      <td>ANTOFAGASTA</td>\n",
              "      <td>DE ANTOFAGASTA</td>\n",
              "      <td>NaN</td>\n",
              "      <td>NaN</td>\n",
              "      <td>NaN</td>\n",
              "      <td>NaN</td>\n",
              "      <td>NEGRO</td>\n",
              "      <td>49.0</td>\n",
              "      <td>S</td>\n",
              "      <td>0                NaN\\n1                NaN\\n2 ...</td>\n",
              "    </tr>\n",
              "    <tr>\n",
              "      <th>3</th>\n",
              "      <td>EBCF63CD-99D</td>\n",
              "      <td>JEEP</td>\n",
              "      <td>COMPASS SPORT 2.4</td>\n",
              "      <td>2013</td>\n",
              "      <td>43482783</td>\n",
              "      <td>NaN</td>\n",
              "      <td>NaN</td>\n",
              "      <td>NaN</td>\n",
              "      <td>NaN</td>\n",
              "      <td>NaN</td>\n",
              "      <td>20160418.0</td>\n",
              "      <td>GRIS</td>\n",
              "      <td>40.0</td>\n",
              "      <td>S</td>\n",
              "      <td>2016-04-18 00:00:00</td>\n",
              "    </tr>\n",
              "    <tr>\n",
              "      <th>4</th>\n",
              "      <td>FF38B368-B0F</td>\n",
              "      <td>SUBARU</td>\n",
              "      <td>FORESTER 2.0</td>\n",
              "      <td>2017</td>\n",
              "      <td>25657273</td>\n",
              "      <td>NaN</td>\n",
              "      <td>NaN</td>\n",
              "      <td>NaN</td>\n",
              "      <td>NaN</td>\n",
              "      <td>NaN</td>\n",
              "      <td>NaN</td>\n",
              "      <td>GRIS</td>\n",
              "      <td>62.0</td>\n",
              "      <td>S</td>\n",
              "      <td>0                NaN\\n1                NaN\\n2 ...</td>\n",
              "    </tr>\n",
              "  </tbody>\n",
              "</table>\n",
              "</div>\n",
              "      <button class=\"colab-df-convert\" onclick=\"convertToInteractive('df-857fb867-41e9-4c9f-8863-3a09afe91005')\"\n",
              "              title=\"Convert this dataframe to an interactive table.\"\n",
              "              style=\"display:none;\">\n",
              "        \n",
              "  <svg xmlns=\"http://www.w3.org/2000/svg\" height=\"24px\"viewBox=\"0 0 24 24\"\n",
              "       width=\"24px\">\n",
              "    <path d=\"M0 0h24v24H0V0z\" fill=\"none\"/>\n",
              "    <path d=\"M18.56 5.44l.94 2.06.94-2.06 2.06-.94-2.06-.94-.94-2.06-.94 2.06-2.06.94zm-11 1L8.5 8.5l.94-2.06 2.06-.94-2.06-.94L8.5 2.5l-.94 2.06-2.06.94zm10 10l.94 2.06.94-2.06 2.06-.94-2.06-.94-.94-2.06-.94 2.06-2.06.94z\"/><path d=\"M17.41 7.96l-1.37-1.37c-.4-.4-.92-.59-1.43-.59-.52 0-1.04.2-1.43.59L10.3 9.45l-7.72 7.72c-.78.78-.78 2.05 0 2.83L4 21.41c.39.39.9.59 1.41.59.51 0 1.02-.2 1.41-.59l7.78-7.78 2.81-2.81c.8-.78.8-2.07 0-2.86zM5.41 20L4 18.59l7.72-7.72 1.47 1.35L5.41 20z\"/>\n",
              "  </svg>\n",
              "      </button>\n",
              "      \n",
              "  <style>\n",
              "    .colab-df-container {\n",
              "      display:flex;\n",
              "      flex-wrap:wrap;\n",
              "      gap: 12px;\n",
              "    }\n",
              "\n",
              "    .colab-df-convert {\n",
              "      background-color: #E8F0FE;\n",
              "      border: none;\n",
              "      border-radius: 50%;\n",
              "      cursor: pointer;\n",
              "      display: none;\n",
              "      fill: #1967D2;\n",
              "      height: 32px;\n",
              "      padding: 0 0 0 0;\n",
              "      width: 32px;\n",
              "    }\n",
              "\n",
              "    .colab-df-convert:hover {\n",
              "      background-color: #E2EBFA;\n",
              "      box-shadow: 0px 1px 2px rgba(60, 64, 67, 0.3), 0px 1px 3px 1px rgba(60, 64, 67, 0.15);\n",
              "      fill: #174EA6;\n",
              "    }\n",
              "\n",
              "    [theme=dark] .colab-df-convert {\n",
              "      background-color: #3B4455;\n",
              "      fill: #D2E3FC;\n",
              "    }\n",
              "\n",
              "    [theme=dark] .colab-df-convert:hover {\n",
              "      background-color: #434B5C;\n",
              "      box-shadow: 0px 1px 3px 1px rgba(0, 0, 0, 0.15);\n",
              "      filter: drop-shadow(0px 1px 2px rgba(0, 0, 0, 0.3));\n",
              "      fill: #FFFFFF;\n",
              "    }\n",
              "  </style>\n",
              "\n",
              "      <script>\n",
              "        const buttonEl =\n",
              "          document.querySelector('#df-857fb867-41e9-4c9f-8863-3a09afe91005 button.colab-df-convert');\n",
              "        buttonEl.style.display =\n",
              "          google.colab.kernel.accessAllowed ? 'block' : 'none';\n",
              "\n",
              "        async function convertToInteractive(key) {\n",
              "          const element = document.querySelector('#df-857fb867-41e9-4c9f-8863-3a09afe91005');\n",
              "          const dataTable =\n",
              "            await google.colab.kernel.invokeFunction('convertToInteractive',\n",
              "                                                     [key], {});\n",
              "          if (!dataTable) return;\n",
              "\n",
              "          const docLinkHtml = 'Like what you see? Visit the ' +\n",
              "            '<a target=\"_blank\" href=https://colab.research.google.com/notebooks/data_table.ipynb>data table notebook</a>'\n",
              "            + ' to learn more about interactive tables.';\n",
              "          element.innerHTML = '';\n",
              "          dataTable['output_type'] = 'display_data';\n",
              "          await google.colab.output.renderOutput(dataTable, element);\n",
              "          const docLink = document.createElement('div');\n",
              "          docLink.innerHTML = docLinkHtml;\n",
              "          element.appendChild(docLink);\n",
              "        }\n",
              "      </script>\n",
              "    </div>\n",
              "  </div>\n",
              "  "
            ],
            "text/plain": [
              "        PATENTE  ...                                        FECHA_TRANS\n",
              "0  393A4B4C-085  ...  0                NaN\\n1                NaN\\n2 ...\n",
              "1  B1F3DB7E-F67  ...  0                NaN\\n1                NaN\\n2 ...\n",
              "2  F6DBB2E6-A76  ...  0                NaN\\n1                NaN\\n2 ...\n",
              "3  EBCF63CD-99D  ...                                2016-04-18 00:00:00\n",
              "4  FF38B368-B0F  ...  0                NaN\\n1                NaN\\n2 ...\n",
              "\n",
              "[5 rows x 15 columns]"
            ]
          },
          "metadata": {},
          "execution_count": 14
        }
      ]
    },
    {
      "cell_type": "code",
      "source": [
        "df_data.FECHA_TRANS.describe()"
      ],
      "metadata": {
        "colab": {
          "base_uri": "https://localhost:8080/"
        },
        "id": "-1XrDEd6RBV3",
        "outputId": "762b9829-5e3c-4d55-8707-8370bd474769"
      },
      "execution_count": null,
      "outputs": [
        {
          "output_type": "execute_result",
          "data": {
            "text/plain": [
              "count                                                671065\n",
              "unique                                                 1797\n",
              "top       0                NaN\\n1                NaN\\n2 ...\n",
              "freq                                                 452579\n",
              "Name: FECHA_TRANS, dtype: object"
            ]
          },
          "metadata": {},
          "execution_count": 6
        }
      ]
    },
    {
      "cell_type": "code",
      "source": [
        "df_data.COLOR2.describe()"
      ],
      "metadata": {
        "colab": {
          "base_uri": "https://localhost:8080/"
        },
        "id": "KPn2rsaQRXnP",
        "outputId": "8c5263bb-c3d7-4e36-8cf5-8338040c76d7"
      },
      "execution_count": null,
      "outputs": [
        {
          "output_type": "execute_result",
          "data": {
            "text/plain": [
              "count     662697\n",
              "unique       825\n",
              "top         GRIS\n",
              "freq      154228\n",
              "Name: COLOR2, dtype: object"
            ]
          },
          "metadata": {},
          "execution_count": 7
        }
      ]
    },
    {
      "cell_type": "markdown",
      "source": [
        "## Supuestos:\n",
        "\n",
        "* Para este caso de estudio no se eliminarán filas con datos faltantes, puesto que para descubrir patrones se pudiese perder información relevante.\n",
        "* No se aplicarán técnicas de imputación. Por desconocimiento del negocio se podrían producir inconsistencias en los resultados. Por esta razón consideraremos solo los registros que contengan datos.\n",
        "* Dependiendo de cada gráfica se aplicarán los filtros correspondientes para no alterar el resultado debido a los datos faltantes.\n"
      ],
      "metadata": {
        "id": "snDdW_40T5b5"
      }
    },
    {
      "cell_type": "code",
      "source": [
        "import seaborn as sns\n",
        "sns.set()\n",
        "cols = ['AÑO', 'TASACION', 'EDAD']\n",
        "sns.pairplot(df_data[cols], size = 2.5)\n",
        "plt.show();"
      ],
      "metadata": {
        "colab": {
          "base_uri": "https://localhost:8080/",
          "height": 617
        },
        "id": "W_fMplvhJHuo",
        "outputId": "3fb05d70-78cf-4621-f1cd-600088b496de"
      },
      "execution_count": null,
      "outputs": [
        {
          "output_type": "stream",
          "name": "stderr",
          "text": [
            "/usr/local/lib/python3.7/dist-packages/seaborn/axisgrid.py:2076: UserWarning:\n",
            "\n",
            "The `size` parameter has been renamed to `height`; please update your code.\n",
            "\n"
          ]
        },
        {
          "output_type": "display_data",
          "data": {
            "image/png": "[encoded data removed]",
            "text/plain": [
              "<Figure size 540x540 with 12 Axes>"
            ]
          },
          "metadata": {}
        }
      ]
    }
  ]
}